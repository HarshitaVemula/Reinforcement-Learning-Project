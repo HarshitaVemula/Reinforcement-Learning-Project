{
 "cells": [
  {
   "cell_type": "code",
   "execution_count": null,
   "metadata": {},
   "outputs": [],
   "source": [
    "from citylearn import  CityLearn\n",
    "import matplotlib.pyplot as plt\n",
    "from pathlib import Path\n",
    "import numpy as np\n",
    "np.random.seed(3)"
   ]
  },
  {
   "cell_type": "code",
   "execution_count": null,
   "metadata": {},
   "outputs": [],
   "source": [
    "# Load environment\n",
    "data_folder = Path(\"data/\")\n",
    "building_attributes = data_folder / 'building_attributes.json'\n",
    "solar_profile = data_folder / 'solar_generation_1kW.csv'\n",
    "building_state_actions = 'buildings_state_action_space.json'\n",
    "building_ids = [\"Building_1\",\"Building_2\",\"Building_3\",\"Building_4\",\"Building_5\",\"Building_6\",\"Building_7\",\"Building_8\",\"Building_9\"]\n",
    "env = CityLearn(building_attributes, solar_profile, building_ids, buildings_states_actions = building_state_actions, cost_function = ['ramping','1-load_factor','peak_to_valley_ratio','peak_demand','net_electricity_consumption'])\n",
    "observations_spaces,actions_spaces = env.get_state_action_spaces()"
   ]
  },
  {
   "cell_type": "code",
   "execution_count": null,
   "metadata": {},
   "outputs": [],
   "source": [
    "# RL CONTROLLER\n",
    "from reward_function import reward_function\n",
    "from agent import TD3_Agents\n",
    "import time\n",
    "\n",
    "#Instantiating the control agent(s)\n",
    "agents = TD3_Agents(observations_spaces,actions_spaces)\n",
    "\n",
    "k, c = 0, 0\n",
    "cost, cum_reward = {}, {}\n",
<<<<<<< HEAD
    "\n",
=======
>>>>>>> a6cb088f8def9ac1d123d7756f689b854fa79f42
    "start = time.time()\n",
    "episodes = 300\n",
    "for e in range(episodes): #A stopping criterion can be added, which is based on whether the cost has reached some specific threshold or is no longer improving\n",
    "    cum_reward[e] = 0\n",
    "    rewards = []\n",
    "    state = env.reset()\n",
    "    done = False\n",
    "    while not done:\n",
    "        if k%(40000*4)==0:\n",
    "            print('hour: '+str(k)+' of '+str(8760*episodes))\n",
    "            \n",
    "        action = agents.select_action(state)\n",
    "        next_state, reward, done, _ = env.step(action)\n",
    "        reward = reward_function(reward) #See comments in reward_function.py\n",
    "        agents.add_to_buffer(state, action, reward, next_state, done)\n",
    "        state = next_state\n",
    "        cum_reward[e] += reward[0]\n",
    "        rewards.append(reward)\n",
    "        k+=1\n",
    "    cost[e] = env.cost()\n",
    "    if c%20==0:\n",
    "        print(cost[e])\n",
    "    c+=1\n",
    "        \n",
    "end = time.time()\n",
    "print((end-start)/60.0)"
   ]
  },
  {
   "cell_type": "code",
   "execution_count": null,
   "metadata": {},
   "outputs": [],
   "source": [
    "#Prints the cost of every episode. The lower the better. Ideally it will reach the same cost or lower than the RBC: 156.88\n",
    "cost"
   ]
  },
  {
   "cell_type": "code",
   "execution_count": null,
   "metadata": {},
   "outputs": [],
   "source": [
    "#Prints the actor and critic losses\n",
    "fig, (plot1, plot2, plot3) = plt.subplots(1,3)\n",
    "fig.set_size_inches(12,4)\n",
    "plot1.plot(agents.critic1_loss_list[0],'b')\n",
    "plot2.plot(agents.critic2_loss_list[0],'g')\n",
    "plot3.plot(agents.actor_loss_list[0],'y')\n",
    "plot1.set_xlabel('hours*iterations')\n",
    "plot1.set_ylabel('Critic 1 loss')\n",
    "plot2.set_xlabel('hours*iterations')\n",
    "plot2.set_ylabel('Critic 2 loss')\n",
    "plot3.set_xlabel('hours*iterations')\n",
    "plot3.set_ylabel('Actor loss')"
   ]
  },
  {
   "cell_type": "code",
   "execution_count": null,
   "metadata": {},
   "outputs": [],
   "source": [
<<<<<<< HEAD
    "#Plots for the last 100 hours of the simulation\n",
    "plt.plot(env.buildings[0].cooling_device.electrical_consumption_cooling[2400:])\n",
    "plt.plot(env.buildings[0].sim_results['cooling_demand'][3500:6000].values[2400:])\n",
    "plt.plot(env.buildings[0].cooling_device.cooling_supply[2400:])\n",
    "plt.legend(['Electrical consumption cooling','Building cooling demand','Heat pump cooling supply'])"
   ]
  },
  {
   "cell_type": "code",
   "execution_count": null,
   "metadata": {},
   "outputs": [],
   "source": [
=======
>>>>>>> a6cb088f8def9ac1d123d7756f689b854fa79f42
    "interval = range(0,8759)\n",
    "plt.figure(figsize=(18,8))\n",
    "plt.plot(env.net_electric_consumption[interval]+env.electric_generation[interval]-env.electric_consumption_cooling_storage[interval]-env.electric_consumption_dhw_storage[interval])\n",
    "plt.plot(env.net_electric_consumption[interval]-env.electric_consumption_cooling_storage[interval]-env.electric_consumption_dhw_storage[interval])\n",
    "plt.plot(env.net_electric_consumption[interval], '--')\n",
    "plt.legend(['Electricity demand without storage or generation (kW)', 'Electricity demand with PV generation and without storage(kW)', 'Electricity demand using RBC for storage(kW)'])"
   ]
  },
  {
   "cell_type": "code",
   "execution_count": null,
   "metadata": {},
   "outputs": [],
   "source": []
  }
 ],
 "metadata": {
  "kernelspec": {
   "display_name": "Python 3",
   "language": "python",
   "name": "python3"
  },
  "language_info": {
   "codemirror_mode": {
    "name": "ipython",
    "version": 3
   },
   "file_extension": ".py",
   "mimetype": "text/x-python",
   "name": "python",
   "nbconvert_exporter": "python",
   "pygments_lexer": "ipython3",
   "version": "3.7.3"
  }
 },
 "nbformat": 4,
 "nbformat_minor": 4
}
