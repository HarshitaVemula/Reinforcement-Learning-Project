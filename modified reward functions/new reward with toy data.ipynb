{
 "cells": [
  {
   "cell_type": "code",
   "execution_count": 24,
   "metadata": {},
   "outputs": [],
   "source": [
    "from citylearn import  CityLearn\n",
    "import matplotlib.pyplot as plt\n",
    "from pathlib import Path\n",
    "import numpy as np\n",
    "np.random.seed(3)"
   ]
  },
  {
   "cell_type": "code",
   "execution_count": 25,
   "metadata": {},
   "outputs": [],
   "source": [
    "# Load environment\n",
    "data_folder = Path(\"data/\")\n",
    "building_attributes = data_folder / 'building_attributes.json'\n",
    "solar_profile = data_folder / 'solar_generation_1kW.csv'\n",
    "building_state_actions = 'buildings_state_action_space.json'\n",
    "#building_ids = [\"Building_1\",\"Building_2\",\"Building_3\",\"Building_4\",\"Building_5\",\"Building_6\",\"Building_7\",\"Building_8\",\"Building_9\"]\n",
    "building_ids = [\"Building_1\"]\n",
    "env = CityLearn(building_attributes, solar_profile, building_ids, buildings_states_actions = building_state_actions, cost_function = ['ramping','1-load_factor','peak_to_valley_ratio','peak_demand','net_electricity_consumption'])\n",
    "observations_spaces,actions_spaces = env.get_state_action_spaces()"
   ]
  },
  {
   "cell_type": "code",
   "execution_count": 27,
   "metadata": {},
   "outputs": [],
   "source": [
    "actions_space=np.arange(-0.2,0.21,0.1)\n",
    "num_actions=actions_space.shape[0]\n",
    "def reward_fun(mu,temp_diff,action,soc,epsilon=0.01):\n",
    "    p=np.sign(mu-temp_diff)\n",
    "    a=(p+1)*action\n",
    "    b=p*(np.sign(soc+p*action-epsilon-1)+1)\n",
    "    if action<0:\n",
    "        c=epsilon*action*p*np.sign(soc+action)\n",
    "    else:\n",
    "        c=epsilon*action*p\n",
    "    return(a-b+c)\n",
    "    \n"
   ]
  },
  {
   "cell_type": "code",
   "execution_count": 28,
   "metadata": {},
   "outputs": [
    {
     "data": {
      "text/plain": [
       "Text(0.5, 1.0, 'RBC')"
      ]
     },
     "execution_count": 28,
     "metadata": {},
     "output_type": "execute_result"
    },
    {
     "data": {
      "image/png": "[encoded data removed]",
      "text/plain": [
       "<Figure size 432x288 with 1 Axes>"
      ]
     },
     "metadata": {
      "needs_background": "light"
     },
     "output_type": "display_data"
    }
   ],
   "source": [
    "actions_desired=[0]*2+[0.2]*8+[0]*2+[-0.2]*8+[0]*4\n",
    "plt.scatter(range(24),actions_desired)\n",
    "plt.xticks(np.arange(24))\n",
    "plt.xlabel('hr of the day')\n",
    "plt.ylabel('action taken')\n",
    "plt.title('RBC')"
   ]
  },
  {
   "cell_type": "code",
   "execution_count": 62,
   "metadata": {},
   "outputs": [
    {
     "data": {
      "text/plain": [
       "<matplotlib.legend.Legend at 0x123f42208>"
      ]
     },
     "execution_count": 62,
     "metadata": {},
     "output_type": "execute_result"
    },
    {
     "data": {
      "image/png": "[encoded data removed]",
      "text/plain": [
       "<Figure size 432x288 with 1 Axes>"
      ]
     },
     "metadata": {
      "needs_background": "light"
     },
     "output_type": "display_data"
    }
   ],
   "source": [
    "# test data to check if the reward fucntion is working\n",
    "def reward_fun(mu,temp,action,soc,epsilon=0.01):\n",
    "    p=np.sign(mu-temp)\n",
    "    a=(p+1)*action\n",
    "    b=p*(np.sign(soc+p*action-epsilon-1)+1)\n",
    "    if action<0:\n",
    "        c=epsilon*action*p*np.sign(soc+action)\n",
    "    else:\n",
    "        c=epsilon*action*p\n",
    "    return(a-b+c)\n",
    "\n",
    "import numpy as np\n",
    "t_out=[10,14]\n",
    "mu=12\n",
    "soc=np.arange(0,1,0.1)\n",
    "action=[-0.2,-0.1,0,0.1,0.2]\n",
    "\n",
    "Q=np.zeros((2,10,5))\n",
    "for i in range(2):\n",
    "    for j in range(10):\n",
    "        for k in range(5):\n",
    "            Q[i,j,k]=reward_fun(mu,t_out[i],action[k],soc[j])\n",
    "            \n",
    "            \n",
    "l1=[]\n",
    "a1=[]\n",
    "l2=[]\n",
    "a2=[]\n",
    "for i in range(10):\n",
    "    a1.append(max(Q[0,i,:]))\n",
    "    l1.append(action[np.argmax(Q[0,i,:])])\n",
    "    a2.append(max(Q[1,i,:]))\n",
    "    l2.append(action[np.argmax(Q[1,i,:])])\n",
    "    \n",
    "    \n",
    "import matplotlib.pyplot as plt\n",
    "\n",
    "plt.scatter(soc,l1)\n",
    "plt.scatter(soc,l2)\n",
    "plt.xticks(soc)\n",
    "plt.xlabel('soc')\n",
    "plt.ylabel('action taken')\n",
    "plt.title('New reward function - ideal actions to be taken')\n",
    "plt.legend(['Mu > t_out','Mu < t_out'])"
   ]
  },
  {
   "cell_type": "code",
   "execution_count": 41,
   "metadata": {},
   "outputs": [
    {
     "name": "stdout",
     "output_type": "stream",
     "text": [
      "0\n",
      "{'ramping': 0.8599843767918223, '1-load_factor': 1.0597227384062118, 'peak_to_valley_ratio': 0.0, 'peak_demand': 1.3484185384108938, 'net_electricity_consumption': 1.172535561478237, 'total': 0.8881322430174329}\n",
      "1\n",
      "{'ramping': 0.8599843767918223, '1-load_factor': 1.0597227384062118, 'peak_to_valley_ratio': 0.0, 'peak_demand': 1.3484185384108938, 'net_electricity_consumption': 1.172535561478237, 'total': 0.8881322430174329}\n",
      "2\n",
      "{'ramping': 0.8599843767918223, '1-load_factor': 1.0597227384062118, 'peak_to_valley_ratio': 0.0, 'peak_demand': 1.3484185384108938, 'net_electricity_consumption': 1.172535561478237, 'total': 0.8881322430174329}\n",
      "3\n",
      "{'ramping': 0.8599843767918223, '1-load_factor': 1.0597227384062118, 'peak_to_valley_ratio': 0.0, 'peak_demand': 1.3484185384108938, 'net_electricity_consumption': 1.172535561478237, 'total': 0.8881322430174329}\n",
      "4\n",
      "{'ramping': 0.8599843767918223, '1-load_factor': 1.0597227384062118, 'peak_to_valley_ratio': 0.0, 'peak_demand': 1.3484185384108938, 'net_electricity_consumption': 1.172535561478237, 'total': 0.8881322430174329}\n",
      "5\n",
      "{'ramping': 0.8599843767918223, '1-load_factor': 1.0597227384062118, 'peak_to_valley_ratio': 0.0, 'peak_demand': 1.3484185384108938, 'net_electricity_consumption': 1.172535561478237, 'total': 0.8881322430174329}\n",
      "6\n",
      "{'ramping': 0.8599843767918223, '1-load_factor': 1.0597227384062118, 'peak_to_valley_ratio': 0.0, 'peak_demand': 1.3484185384108938, 'net_electricity_consumption': 1.172535561478237, 'total': 0.8881322430174329}\n",
      "7\n",
      "{'ramping': 0.8599843767918223, '1-load_factor': 1.0597227384062118, 'peak_to_valley_ratio': 0.0, 'peak_demand': 1.3484185384108938, 'net_electricity_consumption': 1.172535561478237, 'total': 0.8881322430174329}\n",
      "8\n",
      "{'ramping': 0.8599843767918223, '1-load_factor': 1.0597227384062118, 'peak_to_valley_ratio': 0.0, 'peak_demand': 1.3484185384108938, 'net_electricity_consumption': 1.172535561478237, 'total': 0.8881322430174329}\n",
      "9\n",
      "{'ramping': 0.8599843767918223, '1-load_factor': 1.0597227384062118, 'peak_to_valley_ratio': 0.0, 'peak_demand': 1.3484185384108938, 'net_electricity_consumption': 1.172535561478237, 'total': 0.8881322430174329}\n",
      "10\n",
      "{'ramping': 0.8599843767918223, '1-load_factor': 1.0597227384062118, 'peak_to_valley_ratio': 0.0, 'peak_demand': 1.3484185384108938, 'net_electricity_consumption': 1.172535561478237, 'total': 0.8881322430174329}\n",
      "11\n",
      "{'ramping': 0.8599843767918223, '1-load_factor': 1.0597227384062118, 'peak_to_valley_ratio': 0.0, 'peak_demand': 1.3484185384108938, 'net_electricity_consumption': 1.172535561478237, 'total': 0.8881322430174329}\n",
      "12\n",
      "{'ramping': 0.8599843767918223, '1-load_factor': 1.0597227384062118, 'peak_to_valley_ratio': 0.0, 'peak_demand': 1.3484185384108938, 'net_electricity_consumption': 1.172535561478237, 'total': 0.8881322430174329}\n",
      "13\n",
      "{'ramping': 0.8599843767918223, '1-load_factor': 1.0597227384062118, 'peak_to_valley_ratio': 0.0, 'peak_demand': 1.3484185384108938, 'net_electricity_consumption': 1.172535561478237, 'total': 0.8881322430174329}\n",
      "14\n",
      "{'ramping': 0.8599843767918223, '1-load_factor': 1.0597227384062118, 'peak_to_valley_ratio': 0.0, 'peak_demand': 1.3484185384108938, 'net_electricity_consumption': 1.172535561478237, 'total': 0.8881322430174329}\n",
      "15\n",
      "{'ramping': 0.8599843767918223, '1-load_factor': 1.0597227384062118, 'peak_to_valley_ratio': 0.0, 'peak_demand': 1.3484185384108938, 'net_electricity_consumption': 1.172535561478237, 'total': 0.8881322430174329}\n",
      "16\n",
      "{'ramping': 0.8599843767918223, '1-load_factor': 1.0597227384062118, 'peak_to_valley_ratio': 0.0, 'peak_demand': 1.3484185384108938, 'net_electricity_consumption': 1.172535561478237, 'total': 0.8881322430174329}\n",
      "17\n",
      "{'ramping': 0.8599843767918223, '1-load_factor': 1.0597227384062118, 'peak_to_valley_ratio': 0.0, 'peak_demand': 1.3484185384108938, 'net_electricity_consumption': 1.172535561478237, 'total': 0.8881322430174329}\n",
      "18\n",
      "{'ramping': 0.8599843767918223, '1-load_factor': 1.0597227384062118, 'peak_to_valley_ratio': 0.0, 'peak_demand': 1.3484185384108938, 'net_electricity_consumption': 1.172535561478237, 'total': 0.8881322430174329}\n",
      "19\n",
      "{'ramping': 0.8599843767918223, '1-load_factor': 1.0597227384062118, 'peak_to_valley_ratio': 0.0, 'peak_demand': 1.3484185384108938, 'net_electricity_consumption': 1.172535561478237, 'total': 0.8881322430174329}\n",
      "20\n",
      "{'ramping': 0.8599843767918223, '1-load_factor': 1.0597227384062118, 'peak_to_valley_ratio': 0.0, 'peak_demand': 1.3484185384108938, 'net_electricity_consumption': 1.172535561478237, 'total': 0.8881322430174329}\n",
      "21\n",
      "{'ramping': 0.8599843767918223, '1-load_factor': 1.0597227384062118, 'peak_to_valley_ratio': 0.0, 'peak_demand': 1.3484185384108938, 'net_electricity_consumption': 1.172535561478237, 'total': 0.8881322430174329}\n",
      "22\n",
      "{'ramping': 0.8599843767918223, '1-load_factor': 1.0597227384062118, 'peak_to_valley_ratio': 0.0, 'peak_demand': 1.3484185384108938, 'net_electricity_consumption': 1.172535561478237, 'total': 0.8881322430174329}\n",
      "23\n",
      "{'ramping': 0.8599843767918223, '1-load_factor': 1.0597227384062118, 'peak_to_valley_ratio': 0.0, 'peak_demand': 1.3484185384108938, 'net_electricity_consumption': 1.172535561478237, 'total': 0.8881322430174329}\n",
      "24\n",
      "{'ramping': 0.8599843767918223, '1-load_factor': 1.0597227384062118, 'peak_to_valley_ratio': 0.0, 'peak_demand': 1.3484185384108938, 'net_electricity_consumption': 1.172535561478237, 'total': 0.8881322430174329}\n",
      "25\n",
      "{'ramping': 0.8599843767918223, '1-load_factor': 1.0597227384062118, 'peak_to_valley_ratio': 0.0, 'peak_demand': 1.3484185384108938, 'net_electricity_consumption': 1.172535561478237, 'total': 0.8881322430174329}\n",
      "26\n",
      "{'ramping': 0.8599843767918223, '1-load_factor': 1.0597227384062118, 'peak_to_valley_ratio': 0.0, 'peak_demand': 1.3484185384108938, 'net_electricity_consumption': 1.172535561478237, 'total': 0.8881322430174329}\n",
      "27\n",
      "{'ramping': 0.8599843767918223, '1-load_factor': 1.0597227384062118, 'peak_to_valley_ratio': 0.0, 'peak_demand': 1.3484185384108938, 'net_electricity_consumption': 1.172535561478237, 'total': 0.8881322430174329}\n",
      "28\n",
      "{'ramping': 0.8599843767918223, '1-load_factor': 1.0597227384062118, 'peak_to_valley_ratio': 0.0, 'peak_demand': 1.3484185384108938, 'net_electricity_consumption': 1.172535561478237, 'total': 0.8881322430174329}\n",
      "29\n",
      "{'ramping': 0.8599843767918223, '1-load_factor': 1.0597227384062118, 'peak_to_valley_ratio': 0.0, 'peak_demand': 1.3484185384108938, 'net_electricity_consumption': 1.172535561478237, 'total': 0.8881322430174329}\n",
      "30\n",
      "{'ramping': 0.8599843767918223, '1-load_factor': 1.0597227384062118, 'peak_to_valley_ratio': 0.0, 'peak_demand': 1.3484185384108938, 'net_electricity_consumption': 1.172535561478237, 'total': 0.8881322430174329}\n",
      "31\n",
      "{'ramping': 0.8599843767918223, '1-load_factor': 1.0597227384062118, 'peak_to_valley_ratio': 0.0, 'peak_demand': 1.3484185384108938, 'net_electricity_consumption': 1.172535561478237, 'total': 0.8881322430174329}\n",
      "32\n",
      "{'ramping': 0.8599843767918223, '1-load_factor': 1.0597227384062118, 'peak_to_valley_ratio': 0.0, 'peak_demand': 1.3484185384108938, 'net_electricity_consumption': 1.172535561478237, 'total': 0.8881322430174329}\n",
      "33\n",
      "{'ramping': 0.8599843767918223, '1-load_factor': 1.0597227384062118, 'peak_to_valley_ratio': 0.0, 'peak_demand': 1.3484185384108938, 'net_electricity_consumption': 1.172535561478237, 'total': 0.8881322430174329}\n",
      "34\n",
      "{'ramping': 0.8599843767918223, '1-load_factor': 1.0597227384062118, 'peak_to_valley_ratio': 0.0, 'peak_demand': 1.3484185384108938, 'net_electricity_consumption': 1.172535561478237, 'total': 0.8881322430174329}\n",
      "35\n",
      "{'ramping': 0.8599843767918223, '1-load_factor': 1.0597227384062118, 'peak_to_valley_ratio': 0.0, 'peak_demand': 1.3484185384108938, 'net_electricity_consumption': 1.172535561478237, 'total': 0.8881322430174329}\n",
      "36\n",
      "{'ramping': 0.8599843767918223, '1-load_factor': 1.0597227384062118, 'peak_to_valley_ratio': 0.0, 'peak_demand': 1.3484185384108938, 'net_electricity_consumption': 1.172535561478237, 'total': 0.8881322430174329}\n",
      "37\n",
      "{'ramping': 0.8599843767918223, '1-load_factor': 1.0597227384062118, 'peak_to_valley_ratio': 0.0, 'peak_demand': 1.3484185384108938, 'net_electricity_consumption': 1.172535561478237, 'total': 0.8881322430174329}\n",
      "38\n",
      "{'ramping': 0.8599843767918223, '1-load_factor': 1.0597227384062118, 'peak_to_valley_ratio': 0.0, 'peak_demand': 1.3484185384108938, 'net_electricity_consumption': 1.172535561478237, 'total': 0.8881322430174329}\n",
      "39\n"
     ]
    },
    {
     "name": "stdout",
     "output_type": "stream",
     "text": [
      "{'ramping': 0.8599843767918223, '1-load_factor': 1.0597227384062118, 'peak_to_valley_ratio': 0.0, 'peak_demand': 1.3484185384108938, 'net_electricity_consumption': 1.172535561478237, 'total': 0.8881322430174329}\n"
     ]
    }
   ],
   "source": [
    "action_space=np.arange(-0.2,0.21,0.1)\n",
    "#mu is updated using median\n",
    "#testing the reward fucntion in city learn \n",
    "cost, cum_reward = {}, {}\n",
    "gamma=0.9\n",
    "alpha=0.9\n",
    "na=5\n",
    "from collections import defaultdict\n",
    "state_action=defaultdict()\n",
    "cum_reward={}\n",
    "mu=12.5\n",
    "\n",
    "\n",
    "def reward_fun(mu,temp,action,soc,epsilon=0.01):\n",
    "    p=np.sign(mu-temp)\n",
    "    a=(p+1)*action\n",
    "    b=p*(np.sign(soc+p*action-epsilon-1)+1)\n",
    "    if action<0:\n",
    "        c=epsilon*action*p*np.sign(soc+action)\n",
    "    else:\n",
    "        c=epsilon*action*p\n",
    "    return(a-b+c)\n",
    "\n",
    "#Q=np.zeros((24,10,5))\n",
    "for ep in range(40):\n",
    "    print(ep)\n",
    "    q=[]\n",
    "    states=[]\n",
    "    \n",
    "    sq = env.reset()\n",
    "    t_out=[sq[0][3]]\n",
    "    t_in=[sq[0][7]]\n",
    "    soc=sq[0][-2]\n",
    "    s=int(sq[0][1])\n",
    "    j_=int(np.ceil(soc*10))\n",
    "    if j_==10:\n",
    "        j_=9\n",
    "    ac=np.argmax(Q[s-1,j_-1,:])\n",
    "    action=action_space[ac]\n",
    "    done=False\n",
    "    cum_reward[ep]=[]\n",
    "    while not done:\n",
    "        state_action[s]=action\n",
    "        ns, reward, done, _ = env.step([[0.2]])\n",
    "        reward=reward_fun(mu,t_out[-1],action,soc)\n",
    "       \n",
    "        cum_reward[ep].append(reward)\n",
    "        \n",
    "        t_out.append(ns[0][3])\n",
    "        t_in.append(ns[0][7])\n",
    "        soc=ns[0][-2]\n",
    "        j=int(np.ceil(soc*10))\n",
    "        if j==10:\n",
    "            j=9\n",
    "        ns_ = int(ns[0][1])\n",
    "        \n",
    "        epsilon=np.random.rand(1)\n",
    "        \n",
    "        \n",
    "        if epsilon<=0.8:\n",
    "            ac_=np.argmax(Q[ns_-1,j,:])\n",
    "            action_dash=action_space[ac_]\n",
    "            \n",
    "            \n",
    "        else:\n",
    "            ac_=np.random.choice(na)\n",
    "            action_dash=action_space[ac_]\n",
    "        Q[s-1,j_,ac]=Q[s-1,j_,ac]+alpha*(reward+gamma*Q[ns_-1,j,ac_]-Q[s-1,j_,ac] ) \n",
    "        action=action_dash\n",
    "        s=ns_\n",
    "        ac=ac_\n",
    "        mu=np.median(t_out)\n",
    "        j_=j\n",
    "        \n",
    "    cost[ep] = env.cost()\n",
    "    print(cost[ep])\n",
    "  \n",
    "        \n",
    "    \n",
    "    "
   ]
  },
  {
   "cell_type": "code",
   "execution_count": 44,
   "metadata": {},
   "outputs": [
    {
     "data": {
      "text/plain": [
       "array([[ 0.19213626,  0.05479554,  0.23375066,  0.910816  ,  0.71050012],\n",
       "       [ 0.        ,  0.        ,  0.        ,  0.        ,  0.        ],\n",
       "       [ 0.        ,  0.        ,  0.        ,  0.        ,  0.        ],\n",
       "       [ 0.        ,  0.        ,  0.        ,  0.        ,  0.        ],\n",
       "       [ 0.        ,  0.        ,  0.        ,  0.        ,  0.        ],\n",
       "       [ 0.        ,  0.        ,  0.        ,  0.        ,  0.        ],\n",
       "       [ 0.        ,  0.        ,  0.        ,  0.        ,  0.        ],\n",
       "       [ 0.        ,  0.        ,  0.        ,  0.        ,  0.        ],\n",
       "       [ 0.        ,  0.        ,  0.        ,  0.        ,  0.        ],\n",
       "       [-0.06895022,  0.16056848,  0.34735911, -1.28478321, -0.70538918]])"
      ]
     },
     "execution_count": 44,
     "metadata": {},
     "output_type": "execute_result"
    }
   ],
   "source": [
    "Q[0]"
   ]
  },
  {
   "cell_type": "code",
   "execution_count": 50,
   "metadata": {},
   "outputs": [],
   "source": [
    "action=[-0.2,-0.1,0,0.1,0.2]\n",
    "hr={}\n",
    "for i in range(24):\n",
    "    hr[i]={}\n",
    "    for j in range(10):\n",
    "        hr[i][j]=action[np.argmax(Q[i,j,:])]\n",
    "        \n",
    "        "
   ]
  },
  {
   "cell_type": "code",
   "execution_count": 61,
   "metadata": {},
   "outputs": [
    {
     "data": {
      "text/plain": [
       "Text(0.5, 1.0, 'results obtained using new reward function')"
      ]
     },
     "execution_count": 61,
     "metadata": {},
     "output_type": "execute_result"
    },
    {
     "data": {
      "image/png": "[encoded data removed]",
      "text/plain": [
       "<Figure size 864x576 with 1 Axes>"
      ]
     },
     "metadata": {
      "needs_background": "light"
     },
     "output_type": "display_data"
    }
   ],
   "source": [
    "plt.figure(figsize=(12,8))\n",
    "for i in range(24):\n",
    "    plt.scatter(np.arange(0,1,0.1),list(hr[i].values()))\n",
    "\n",
    "plt.legend(range(24),loc=1)\n",
    "plt.xlabel('soc')\n",
    "plt.ylabel('action taken')\n",
    "plt.xticks(np.arange(0,1,0.1))\n",
    "plt.title('results obtained using new reward function')"
   ]
  }
 ],
 "metadata": {
  "kernelspec": {
   "display_name": "Python 3",
   "language": "python",
   "name": "python3"
  },
  "language_info": {
   "codemirror_mode": {
    "name": "ipython",
    "version": 3
   },
   "file_extension": ".py",
   "mimetype": "text/x-python",
   "name": "python",
   "nbconvert_exporter": "python",
   "pygments_lexer": "ipython3",
   "version": "3.6.8"
  }
 },
 "nbformat": 4,
 "nbformat_minor": 4
}
